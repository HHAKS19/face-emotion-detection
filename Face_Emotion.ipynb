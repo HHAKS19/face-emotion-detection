{
  "nbformat": 4,
  "nbformat_minor": 0,
  "metadata": {
    "colab": {
      "name": "Face_Emotion.ipynb",
      "provenance": [],
      "collapsed_sections": [],
      "authorship_tag": "ABX9TyPJTvbe34gkgBD8y9AoU+E0",
      "include_colab_link": true
    },
    "kernelspec": {
      "name": "python3",
      "display_name": "Python 3"
    },
    "language_info": {
      "name": "python"
    },
    "accelerator": "GPU"
  },
  "cells": [
    {
      "cell_type": "markdown",
      "metadata": {
        "id": "view-in-github",
        "colab_type": "text"
      },
      "source": [
        "<a href=\"https://colab.research.google.com/github/HHAKS19/face-emotion-detection/blob/main/Face_Emotion.ipynb\" target=\"_parent\"><img src=\"https://colab.research.google.com/assets/colab-badge.svg\" alt=\"Open In Colab\"/></a>"
      ]
    },
    {
      "cell_type": "code",
      "metadata": {
        "id": "cRXUkbn6t8Qm",
        "colab": {
          "base_uri": "https://localhost:8080/"
        },
        "outputId": "aecdd992-9cb9-4bb2-edb3-a2a19960d71f"
      },
      "source": [
        "from google.colab import drive\n",
        "drive.mount('/content/drive')"
      ],
      "execution_count": null,
      "outputs": [
        {
          "output_type": "stream",
          "name": "stdout",
          "text": [
            "Mounted at /content/drive\n"
          ]
        }
      ]
    },
    {
      "cell_type": "code",
      "metadata": {
        "id": "AUUaHUPNtjnZ"
      },
      "source": [
        "# import required packages\n",
        "import cv2\n",
        "from keras.models import Sequential\n",
        "from keras.layers import Conv2D, MaxPooling2D, Dense, Dropout, Flatten\n",
        "from keras.preprocessing.image import ImageDataGenerator\n",
        "\n"
      ],
      "execution_count": null,
      "outputs": []
    },
    {
      "cell_type": "markdown",
      "metadata": {
        "id": "93k0qZj_Kyl1"
      },
      "source": [
        "##Initialize image data generator with rescaling"
      ]
    },
    {
      "cell_type": "code",
      "metadata": {
        "id": "0LtTsfefugIg"
      },
      "source": [
        "batch_size  = 128\n",
        "\n",
        "train_data_gen = ImageDataGenerator(rescale=1./255,horizontal_flip= True)\n",
        "validation_data_gen = ImageDataGenerator(rescale=1./255)"
      ],
      "execution_count": null,
      "outputs": []
    },
    {
      "cell_type": "markdown",
      "metadata": {
        "id": "Zb2CqMt-K_S5"
      },
      "source": [
        "## Preprocess all train images"
      ]
    },
    {
      "cell_type": "code",
      "metadata": {
        "id": "2mknwDavulEw",
        "colab": {
          "base_uri": "https://localhost:8080/"
        },
        "outputId": "dc75b8c9-0c96-40a6-9ad0-e65f193be6b1"
      },
      "source": [
        "# \n",
        "train_generator = train_data_gen.flow_from_directory(\n",
        "        '/content/drive/MyDrive/Face_data/train',\n",
        "        target_size=(48, 48),\n",
        "        batch_size=batch_size,\n",
        "        color_mode=\"grayscale\",\n",
        "        class_mode='categorical') # since we use categorical_crossentropy loss, we need categorical labels,label_mode(int,binary,categorical) )\n",
        "\n"
      ],
      "execution_count": null,
      "outputs": [
        {
          "output_type": "stream",
          "name": "stdout",
          "text": [
            "Found 28821 images belonging to 7 classes.\n"
          ]
        }
      ]
    },
    {
      "cell_type": "markdown",
      "metadata": {
        "id": "kc-xJNwDLH2Q"
      },
      "source": [
        "## Preprocess all test images"
      ]
    },
    {
      "cell_type": "code",
      "metadata": {
        "id": "vo5MUnlxusCf",
        "colab": {
          "base_uri": "https://localhost:8080/"
        },
        "outputId": "9a410b68-80b2-4656-b3bf-a6b59a6ffd20"
      },
      "source": [
        "validation_generator = validation_data_gen.flow_from_directory(\n",
        "        '/content/drive/MyDrive/Face_data/validation',\n",
        "        target_size=(48, 48),\n",
        "        batch_size=batch_size,\n",
        "        color_mode=\"grayscale\",\n",
        "        class_mode='categorical')"
      ],
      "execution_count": null,
      "outputs": [
        {
          "output_type": "stream",
          "name": "stdout",
          "text": [
            "Found 7066 images belonging to 7 classes.\n"
          ]
        }
      ]
    },
    {
      "cell_type": "markdown",
      "metadata": {
        "id": "cy58NR64LM08"
      },
      "source": [
        "## Create model structure"
      ]
    },
    {
      "cell_type": "code",
      "metadata": {
        "id": "wV0pXENuuxo_",
        "colab": {
          "base_uri": "https://localhost:8080/"
        },
        "outputId": "f459295f-79c5-4f6a-c6b6-be2ff3c482f9"
      },
      "source": [
        "from tensorflow.keras.optimizers import Adam\n",
        "emotion_model = Sequential()\n",
        "\n",
        "#1st and 2nd CNN layer\n",
        "emotion_model.add(Conv2D(32, kernel_size=(3, 3), activation='relu', input_shape=(48, 48, 1)))\n",
        "\n",
        "emotion_model.add(Conv2D(64, kernel_size=(3, 3), activation='relu'))\n",
        "emotion_model.add(MaxPooling2D(pool_size=(2, 2)))\n",
        "emotion_model.add(Dropout(0.25))\n",
        "\n",
        "#3rd and 4th CNN layer\n",
        "emotion_model.add(Conv2D(128, kernel_size=(3, 3), activation='relu'))\n",
        "emotion_model.add(MaxPooling2D(pool_size=(2, 2)))\n",
        "\n",
        "emotion_model.add(Conv2D(128, kernel_size=(3, 3), activation='relu'))\n",
        "emotion_model.add(MaxPooling2D(pool_size=(2, 2)))\n",
        "emotion_model.add(Dropout(0.25))\n",
        "\n",
        "\n",
        "emotion_model.add(Flatten())\n",
        "\n",
        "#FC1\n",
        "emotion_model.add(Dense(1024, activation='relu'))\n",
        "emotion_model.add(Dropout(0.5))\n",
        "\n",
        "#FC2\n",
        "emotion_model.add(Dense(512, activation='relu'))\n",
        "emotion_model.add(Dropout(0.5))\n",
        "\n",
        "emotion_model.add(Dense(7, activation='softmax'))\n",
        "\n",
        "\n",
        "emotion_model.compile(loss='categorical_crossentropy', optimizer=Adam(learning_rate=0.0001), metrics=['accuracy'])\n",
        "emotion_model.summary()\n"
      ],
      "execution_count": null,
      "outputs": [
        {
          "output_type": "stream",
          "name": "stdout",
          "text": [
            "Model: \"sequential_3\"\n",
            "_________________________________________________________________\n",
            "Layer (type)                 Output Shape              Param #   \n",
            "=================================================================\n",
            "conv2d_12 (Conv2D)           (None, 46, 46, 32)        320       \n",
            "_________________________________________________________________\n",
            "conv2d_13 (Conv2D)           (None, 44, 44, 64)        18496     \n",
            "_________________________________________________________________\n",
            "max_pooling2d_9 (MaxPooling2 (None, 22, 22, 64)        0         \n",
            "_________________________________________________________________\n",
            "dropout_10 (Dropout)         (None, 22, 22, 64)        0         \n",
            "_________________________________________________________________\n",
            "conv2d_14 (Conv2D)           (None, 20, 20, 128)       73856     \n",
            "_________________________________________________________________\n",
            "max_pooling2d_10 (MaxPooling (None, 10, 10, 128)       0         \n",
            "_________________________________________________________________\n",
            "conv2d_15 (Conv2D)           (None, 8, 8, 128)         147584    \n",
            "_________________________________________________________________\n",
            "max_pooling2d_11 (MaxPooling (None, 4, 4, 128)         0         \n",
            "_________________________________________________________________\n",
            "dropout_11 (Dropout)         (None, 4, 4, 128)         0         \n",
            "_________________________________________________________________\n",
            "flatten_3 (Flatten)          (None, 2048)              0         \n",
            "_________________________________________________________________\n",
            "dense_5 (Dense)              (None, 1024)              2098176   \n",
            "_________________________________________________________________\n",
            "dropout_12 (Dropout)         (None, 1024)              0         \n",
            "_________________________________________________________________\n",
            "dense_6 (Dense)              (None, 512)               524800    \n",
            "_________________________________________________________________\n",
            "dropout_13 (Dropout)         (None, 512)               0         \n",
            "_________________________________________________________________\n",
            "dense_7 (Dense)              (None, 7)                 3591      \n",
            "=================================================================\n",
            "Total params: 2,866,823\n",
            "Trainable params: 2,866,823\n",
            "Non-trainable params: 0\n",
            "_________________________________________________________________\n"
          ]
        }
      ]
    },
    {
      "cell_type": "markdown",
      "metadata": {
        "id": "Vj2154a8LjzH"
      },
      "source": [
        "## Model Checkpoint "
      ]
    },
    {
      "cell_type": "code",
      "metadata": {
        "id": "IYzwhu-JyMui"
      },
      "source": [
        "#Callbacks to stop training when there's enough valid data\n",
        "\n",
        "from tensorflow.keras.callbacks import ModelCheckpoint, EarlyStopping, ReduceLROnPlateau\n",
        "\n",
        "checkpoint = ModelCheckpoint(\"./emotion_model.h5\", monitor='val_accuracy', verbose=1, save_best_only=True, mode='max')\n",
        "\n",
        "early_stopping = EarlyStopping(monitor='val_loss',\n",
        "                          min_delta=0,\n",
        "                          patience=3,\n",
        "                          verbose=1,\n",
        "                          restore_best_weights=True\n",
        "                          )\n",
        "\n",
        "reduce_learningrate = ReduceLROnPlateau(monitor='val_loss',\n",
        "                              factor=0.2,\n",
        "                              patience=3,\n",
        "                              verbose=1,\n",
        "                              min_delta=0.0001)\n",
        "\n",
        "callbacks_list = [checkpoint,early_stopping,reduce_learningrate]\n",
        "\n",
        "emotion_model.compile(loss='categorical_crossentropy', optimizer=Adam(learning_rate=0.0001), metrics=['accuracy'])\n",
        "\n"
      ],
      "execution_count": null,
      "outputs": []
    },
    {
      "cell_type": "markdown",
      "metadata": {
        "id": "Xsuz6br_Lfvk"
      },
      "source": [
        "## Train the neural network/model"
      ]
    },
    {
      "cell_type": "code",
      "metadata": {
        "id": "0gawaIvGu1LD",
        "colab": {
          "base_uri": "https://localhost:8080/"
        },
        "outputId": "692abe0f-4655-4796-f00b-66c0e7472981"
      },
      "source": [
        "model_info = emotion_model.fit(\n",
        "        train_generator,\n",
        "        steps_per_epoch=train_generator.n//train_generator.batch_size,\n",
        "        epochs=50,\n",
        "        validation_data = validation_generator,\n",
        "        validation_steps = validation_generator.n // validation_generator.batch_size,\n",
        "        callbacks = callbacks_list\n",
        "        )"
      ],
      "execution_count": null,
      "outputs": [
        {
          "output_type": "stream",
          "name": "stdout",
          "text": [
            "Epoch 1/50\n",
            "225/225 [==============================] - 5540s 24s/step - loss: 1.8349 - accuracy: 0.2398 - val_loss: 1.8400 - val_accuracy: 0.2580\n",
            "\n",
            "Epoch 00001: val_accuracy improved from -inf to 0.25795, saving model to ./emotion_model.h5\n",
            "Epoch 2/50\n",
            "225/225 [==============================] - 63s 280ms/step - loss: 1.8034 - accuracy: 0.2556 - val_loss: 1.7308 - val_accuracy: 0.3080\n",
            "\n",
            "Epoch 00002: val_accuracy improved from 0.25795 to 0.30795, saving model to ./emotion_model.h5\n",
            "Epoch 3/50\n",
            "225/225 [==============================] - 63s 278ms/step - loss: 1.6778 - accuracy: 0.3376 - val_loss: 1.5959 - val_accuracy: 0.3783\n",
            "\n",
            "Epoch 00003: val_accuracy improved from 0.30795 to 0.37827, saving model to ./emotion_model.h5\n",
            "Epoch 4/50\n",
            "225/225 [==============================] - 63s 282ms/step - loss: 1.5879 - accuracy: 0.3851 - val_loss: 1.5185 - val_accuracy: 0.4210\n",
            "\n",
            "Epoch 00004: val_accuracy improved from 0.37827 to 0.42102, saving model to ./emotion_model.h5\n",
            "Epoch 5/50\n",
            "225/225 [==============================] - 62s 277ms/step - loss: 1.5304 - accuracy: 0.4052 - val_loss: 1.4856 - val_accuracy: 0.4362\n",
            "\n",
            "Epoch 00005: val_accuracy improved from 0.42102 to 0.43622, saving model to ./emotion_model.h5\n",
            "Epoch 6/50\n",
            "225/225 [==============================] - 61s 271ms/step - loss: 1.4739 - accuracy: 0.4326 - val_loss: 1.4053 - val_accuracy: 0.4625\n",
            "\n",
            "Epoch 00006: val_accuracy improved from 0.43622 to 0.46250, saving model to ./emotion_model.h5\n",
            "Epoch 7/50\n",
            "225/225 [==============================] - 62s 276ms/step - loss: 1.4305 - accuracy: 0.4548 - val_loss: 1.3707 - val_accuracy: 0.4776\n",
            "\n",
            "Epoch 00007: val_accuracy improved from 0.46250 to 0.47756, saving model to ./emotion_model.h5\n",
            "Epoch 8/50\n",
            "225/225 [==============================] - 63s 281ms/step - loss: 1.3816 - accuracy: 0.4729 - val_loss: 1.3571 - val_accuracy: 0.4774\n",
            "\n",
            "Epoch 00008: val_accuracy did not improve from 0.47756\n",
            "Epoch 9/50\n",
            "225/225 [==============================] - 64s 282ms/step - loss: 1.3503 - accuracy: 0.4845 - val_loss: 1.2997 - val_accuracy: 0.5036\n",
            "\n",
            "Epoch 00009: val_accuracy improved from 0.47756 to 0.50355, saving model to ./emotion_model.h5\n",
            "Epoch 10/50\n",
            "225/225 [==============================] - 62s 276ms/step - loss: 1.3169 - accuracy: 0.4978 - val_loss: 1.2657 - val_accuracy: 0.5232\n",
            "\n",
            "Epoch 00010: val_accuracy improved from 0.50355 to 0.52315, saving model to ./emotion_model.h5\n",
            "Epoch 11/50\n",
            "225/225 [==============================] - 63s 278ms/step - loss: 1.2895 - accuracy: 0.5095 - val_loss: 1.2290 - val_accuracy: 0.5295\n",
            "\n",
            "Epoch 00011: val_accuracy improved from 0.52315 to 0.52955, saving model to ./emotion_model.h5\n",
            "Epoch 12/50\n",
            "225/225 [==============================] - 62s 276ms/step - loss: 1.2600 - accuracy: 0.5217 - val_loss: 1.2077 - val_accuracy: 0.5368\n",
            "\n",
            "Epoch 00012: val_accuracy improved from 0.52955 to 0.53679, saving model to ./emotion_model.h5\n",
            "Epoch 13/50\n",
            "225/225 [==============================] - 62s 275ms/step - loss: 1.2401 - accuracy: 0.5301 - val_loss: 1.1874 - val_accuracy: 0.5452\n",
            "\n",
            "Epoch 00013: val_accuracy improved from 0.53679 to 0.54517, saving model to ./emotion_model.h5\n",
            "Epoch 14/50\n",
            "225/225 [==============================] - 61s 270ms/step - loss: 1.2208 - accuracy: 0.5379 - val_loss: 1.1695 - val_accuracy: 0.5548\n",
            "\n",
            "Epoch 00014: val_accuracy improved from 0.54517 to 0.55483, saving model to ./emotion_model.h5\n",
            "Epoch 15/50\n",
            "225/225 [==============================] - 59s 263ms/step - loss: 1.2024 - accuracy: 0.5436 - val_loss: 1.1646 - val_accuracy: 0.5553\n",
            "\n",
            "Epoch 00015: val_accuracy improved from 0.55483 to 0.55526, saving model to ./emotion_model.h5\n",
            "Epoch 16/50\n",
            "225/225 [==============================] - 60s 268ms/step - loss: 1.1831 - accuracy: 0.5519 - val_loss: 1.1486 - val_accuracy: 0.5634\n",
            "\n",
            "Epoch 00016: val_accuracy improved from 0.55526 to 0.56335, saving model to ./emotion_model.h5\n",
            "Epoch 17/50\n",
            "225/225 [==============================] - 62s 275ms/step - loss: 1.1656 - accuracy: 0.5574 - val_loss: 1.1348 - val_accuracy: 0.5729\n",
            "\n",
            "Epoch 00017: val_accuracy improved from 0.56335 to 0.57287, saving model to ./emotion_model.h5\n",
            "Epoch 18/50\n",
            "225/225 [==============================] - 59s 264ms/step - loss: 1.1543 - accuracy: 0.5659 - val_loss: 1.1203 - val_accuracy: 0.5784\n",
            "\n",
            "Epoch 00018: val_accuracy improved from 0.57287 to 0.57841, saving model to ./emotion_model.h5\n",
            "Epoch 19/50\n",
            "225/225 [==============================] - 60s 265ms/step - loss: 1.1388 - accuracy: 0.5708 - val_loss: 1.1237 - val_accuracy: 0.5788\n",
            "\n",
            "Epoch 00019: val_accuracy improved from 0.57841 to 0.57884, saving model to ./emotion_model.h5\n",
            "Epoch 20/50\n",
            "225/225 [==============================] - 59s 263ms/step - loss: 1.1292 - accuracy: 0.5755 - val_loss: 1.1039 - val_accuracy: 0.5881\n",
            "\n",
            "Epoch 00020: val_accuracy improved from 0.57884 to 0.58807, saving model to ./emotion_model.h5\n",
            "Epoch 21/50\n",
            "225/225 [==============================] - 59s 262ms/step - loss: 1.1132 - accuracy: 0.5791 - val_loss: 1.0975 - val_accuracy: 0.5888\n",
            "\n",
            "Epoch 00021: val_accuracy improved from 0.58807 to 0.58878, saving model to ./emotion_model.h5\n",
            "Epoch 22/50\n",
            "225/225 [==============================] - 58s 260ms/step - loss: 1.0995 - accuracy: 0.5826 - val_loss: 1.0895 - val_accuracy: 0.5940\n",
            "\n",
            "Epoch 00022: val_accuracy improved from 0.58878 to 0.59403, saving model to ./emotion_model.h5\n",
            "Epoch 23/50\n",
            "225/225 [==============================] - 59s 262ms/step - loss: 1.0845 - accuracy: 0.5925 - val_loss: 1.0797 - val_accuracy: 0.5935\n",
            "\n",
            "Epoch 00023: val_accuracy did not improve from 0.59403\n",
            "Epoch 24/50\n",
            "225/225 [==============================] - 60s 267ms/step - loss: 1.0741 - accuracy: 0.5963 - val_loss: 1.0778 - val_accuracy: 0.5959\n",
            "\n",
            "Epoch 00024: val_accuracy improved from 0.59403 to 0.59588, saving model to ./emotion_model.h5\n",
            "Epoch 25/50\n",
            "225/225 [==============================] - 61s 270ms/step - loss: 1.0683 - accuracy: 0.5972 - val_loss: 1.0715 - val_accuracy: 0.5987\n",
            "\n",
            "Epoch 00025: val_accuracy improved from 0.59588 to 0.59872, saving model to ./emotion_model.h5\n",
            "Epoch 26/50\n",
            "225/225 [==============================] - 61s 269ms/step - loss: 1.0538 - accuracy: 0.6020 - val_loss: 1.0728 - val_accuracy: 0.6004\n",
            "\n",
            "Epoch 00026: val_accuracy improved from 0.59872 to 0.60043, saving model to ./emotion_model.h5\n",
            "Epoch 27/50\n",
            "225/225 [==============================] - 61s 273ms/step - loss: 1.0452 - accuracy: 0.6084 - val_loss: 1.0626 - val_accuracy: 0.6044\n",
            "\n",
            "Epoch 00027: val_accuracy improved from 0.60043 to 0.60440, saving model to ./emotion_model.h5\n",
            "Epoch 28/50\n",
            "225/225 [==============================] - 62s 278ms/step - loss: 1.0366 - accuracy: 0.6106 - val_loss: 1.0507 - val_accuracy: 0.6131\n",
            "\n",
            "Epoch 00028: val_accuracy improved from 0.60440 to 0.61307, saving model to ./emotion_model.h5\n",
            "Epoch 29/50\n",
            "225/225 [==============================] - 61s 272ms/step - loss: 1.0230 - accuracy: 0.6147 - val_loss: 1.0511 - val_accuracy: 0.6071\n",
            "\n",
            "Epoch 00029: val_accuracy did not improve from 0.61307\n",
            "Epoch 30/50\n",
            "225/225 [==============================] - 61s 270ms/step - loss: 1.0111 - accuracy: 0.6171 - val_loss: 1.0426 - val_accuracy: 0.6099\n",
            "\n",
            "Epoch 00030: val_accuracy did not improve from 0.61307\n",
            "Epoch 31/50\n",
            "225/225 [==============================] - 60s 266ms/step - loss: 1.0013 - accuracy: 0.6215 - val_loss: 1.0480 - val_accuracy: 0.6116\n",
            "\n",
            "Epoch 00031: val_accuracy did not improve from 0.61307\n",
            "Epoch 32/50\n",
            "225/225 [==============================] - 60s 265ms/step - loss: 0.9985 - accuracy: 0.6259 - val_loss: 1.0397 - val_accuracy: 0.6122\n",
            "\n",
            "Epoch 00032: val_accuracy did not improve from 0.61307\n",
            "Epoch 33/50\n",
            "225/225 [==============================] - 60s 267ms/step - loss: 0.9847 - accuracy: 0.6297 - val_loss: 1.0320 - val_accuracy: 0.6202\n",
            "\n",
            "Epoch 00033: val_accuracy improved from 0.61307 to 0.62017, saving model to ./emotion_model.h5\n",
            "Epoch 34/50\n",
            "225/225 [==============================] - 60s 265ms/step - loss: 0.9750 - accuracy: 0.6321 - val_loss: 1.0352 - val_accuracy: 0.6176\n",
            "\n",
            "Epoch 00034: val_accuracy did not improve from 0.62017\n",
            "Epoch 35/50\n",
            "225/225 [==============================] - 60s 266ms/step - loss: 0.9666 - accuracy: 0.6345 - val_loss: 1.0309 - val_accuracy: 0.6202\n",
            "\n",
            "Epoch 00035: val_accuracy did not improve from 0.62017\n",
            "Epoch 36/50\n",
            "225/225 [==============================] - 61s 269ms/step - loss: 0.9587 - accuracy: 0.6403 - val_loss: 1.0292 - val_accuracy: 0.6216\n",
            "\n",
            "Epoch 00036: val_accuracy improved from 0.62017 to 0.62159, saving model to ./emotion_model.h5\n",
            "Epoch 37/50\n",
            "225/225 [==============================] - 60s 268ms/step - loss: 0.9437 - accuracy: 0.6473 - val_loss: 1.0261 - val_accuracy: 0.6273\n",
            "\n",
            "Epoch 00037: val_accuracy improved from 0.62159 to 0.62727, saving model to ./emotion_model.h5\n",
            "Epoch 38/50\n",
            "225/225 [==============================] - 60s 267ms/step - loss: 0.9365 - accuracy: 0.6485 - val_loss: 1.0233 - val_accuracy: 0.6304\n",
            "\n",
            "Epoch 00038: val_accuracy improved from 0.62727 to 0.63040, saving model to ./emotion_model.h5\n",
            "Epoch 39/50\n",
            "225/225 [==============================] - 60s 265ms/step - loss: 0.9265 - accuracy: 0.6542 - val_loss: 1.0224 - val_accuracy: 0.6224\n",
            "\n",
            "Epoch 00039: val_accuracy did not improve from 0.63040\n",
            "Epoch 40/50\n",
            "225/225 [==============================] - 59s 263ms/step - loss: 0.9207 - accuracy: 0.6576 - val_loss: 1.0218 - val_accuracy: 0.6247\n",
            "\n",
            "Epoch 00040: val_accuracy did not improve from 0.63040\n",
            "Epoch 41/50\n",
            "225/225 [==============================] - 58s 259ms/step - loss: 0.9117 - accuracy: 0.6566 - val_loss: 1.0180 - val_accuracy: 0.6310\n",
            "\n",
            "Epoch 00041: val_accuracy improved from 0.63040 to 0.63097, saving model to ./emotion_model.h5\n",
            "Epoch 42/50\n",
            "225/225 [==============================] - 59s 261ms/step - loss: 0.9056 - accuracy: 0.6587 - val_loss: 1.0148 - val_accuracy: 0.6270\n",
            "\n",
            "Epoch 00042: val_accuracy did not improve from 0.63097\n",
            "Epoch 43/50\n",
            "225/225 [==============================] - 59s 260ms/step - loss: 0.8958 - accuracy: 0.6660 - val_loss: 1.0131 - val_accuracy: 0.6314\n",
            "\n",
            "Epoch 00043: val_accuracy improved from 0.63097 to 0.63139, saving model to ./emotion_model.h5\n",
            "Epoch 44/50\n",
            "225/225 [==============================] - 59s 264ms/step - loss: 0.8841 - accuracy: 0.6696 - val_loss: 1.0098 - val_accuracy: 0.6339\n",
            "\n",
            "Epoch 00044: val_accuracy improved from 0.63139 to 0.63395, saving model to ./emotion_model.h5\n",
            "Epoch 45/50\n",
            "225/225 [==============================] - 62s 274ms/step - loss: 0.8708 - accuracy: 0.6730 - val_loss: 1.0072 - val_accuracy: 0.6341\n",
            "\n",
            "Epoch 00045: val_accuracy improved from 0.63395 to 0.63409, saving model to ./emotion_model.h5\n",
            "Epoch 46/50\n",
            "225/225 [==============================] - 60s 269ms/step - loss: 0.8625 - accuracy: 0.6772 - val_loss: 1.0107 - val_accuracy: 0.6348\n",
            "\n",
            "Epoch 00046: val_accuracy improved from 0.63409 to 0.63480, saving model to ./emotion_model.h5\n",
            "Epoch 47/50\n",
            "225/225 [==============================] - 61s 272ms/step - loss: 0.8562 - accuracy: 0.6794 - val_loss: 1.0140 - val_accuracy: 0.6314\n",
            "\n",
            "Epoch 00047: val_accuracy did not improve from 0.63480\n",
            "Epoch 48/50\n",
            "225/225 [==============================] - 63s 278ms/step - loss: 0.8408 - accuracy: 0.6856 - val_loss: 1.0131 - val_accuracy: 0.6281\n",
            "\n",
            "Epoch 00048: val_accuracy did not improve from 0.63480\n",
            "Restoring model weights from the end of the best epoch.\n",
            "\n",
            "Epoch 00048: ReduceLROnPlateau reducing learning rate to 1.9999999494757503e-05.\n",
            "Epoch 00048: early stopping\n"
          ]
        }
      ]
    },
    {
      "cell_type": "markdown",
      "metadata": {
        "id": "Gs2Pe9LkLrTJ"
      },
      "source": [
        "## Plotting"
      ]
    },
    {
      "cell_type": "code",
      "metadata": {
        "id": "sl0kYhILeCjs",
        "colab": {
          "base_uri": "https://localhost:8080/",
          "height": 537
        },
        "outputId": "09643f0d-585b-4259-9c7d-e293c710157d"
      },
      "source": [
        "import matplotlib.pyplot as plt\n",
        "plt.style.use('dark_background')\n",
        "\n",
        "plt.figure(figsize=(20,10))\n",
        "plt.subplot(1, 2, 1)\n",
        "plt.suptitle('Optimizer : Adam', fontsize=10)\n",
        "plt.ylabel('Loss', fontsize=16)\n",
        "plt.plot(model_info.history['loss'], label='Training Loss')\n",
        "plt.plot(model_info.history['val_loss'], label='Validation Loss')\n",
        "plt.legend(loc='upper right')\n",
        "\n",
        "plt.subplot(1, 2, 2)\n",
        "plt.ylabel('Accuracy', fontsize=16)\n",
        "plt.plot(model_info.history['accuracy'], label='Training Accuracy')\n",
        "plt.plot(model_info.history['val_accuracy'], label='Validation Accuracy')\n",
        "plt.legend(loc='lower right')\n",
        "plt.show()"
      ],
      "execution_count": null,
      "outputs": [
        {
          "output_type": "display_data",
          "data": {
            "image/png": "[encoded data removed]",
            "text/plain": [
              "<Figure size 1440x720 with 2 Axes>"
            ]
          },
          "metadata": {}
        }
      ]
    },
    {
      "cell_type": "code",
      "metadata": {
        "id": "NlYUaJsYeXjN"
      },
      "source": [
        "# save trained model weight in .h5 file\n",
        "emotion_model.save_weights('/content/drive/MyDrive/Face_data/emotion_model_w.h5')"
      ],
      "execution_count": null,
      "outputs": []
    },
    {
      "cell_type": "markdown",
      "metadata": {
        "id": "6UB6hkBaL6Ke"
      },
      "source": [
        "#Save the model file"
      ]
    },
    {
      "cell_type": "code",
      "metadata": {
        "id": "ZIQduo4nyLXy"
      },
      "source": [
        "emotion_model.save('/content/drive/MyDrive/Face_data/emotion_model.h5')"
      ],
      "execution_count": null,
      "outputs": []
    },
    {
      "cell_type": "markdown",
      "metadata": {
        "id": "7z4uRN7sL_Oi"
      },
      "source": [
        "## Test the model with webcam"
      ]
    },
    {
      "cell_type": "code",
      "metadata": {
        "id": "lRXk_eVVerNH"
      },
      "source": [
        "from keras.models import load_model\n",
        "from time import sleep\n",
        "from keras.preprocessing.image import img_to_array\n",
        "from keras.preprocessing import image\n",
        "import cv2\n",
        "import numpy as np\n",
        "\n",
        "face_classifier = cv2.CascadeClassifier(r'/content/drive/MyDrive/Face_data/haarcascade_frontalface_default.xml')\n",
        "classifier =load_model(r'/content/drive/MyDrive/Face_data/emotion_model.h5')\n",
        "\n",
        "emotion_labels = ['Angry','Disgust','Fear','Happy','Neutral', 'Sad', 'Surprise']\n",
        "\n",
        "cap = cv2.VideoCapture(0)\n",
        "\n",
        "\n",
        "\n",
        "while True:\n",
        "    # ret is a boolean regarding whether or not there was a return at all, at the frame is each frame that is returned. \n",
        "    ret, frame = cap.read() \n",
        "    if not ret:\n",
        "        break                        \n",
        "    labels = []\n",
        "    gray = cv2.cvtColor(frame,cv2.COLOR_BGR2GRAY)\n",
        "    #detect faces\n",
        "    faces = face_classifier.detectMultiScale(gray) \n",
        "\n",
        "    # take each face available on the camera and Preprocess it\n",
        "    for (x,y,w,h) in faces:\n",
        "        #image,start,end,color(RGB),thinkness\n",
        "        cv2.rectangle(frame,(x,y),(x+w,y+h),(0,255,255),2)  #color = light cyan\n",
        "        roi_gray = gray[y:y+h,x:x+w] #crop the image\n",
        "        roi_graycrop = cv2.resize(roi_gray,(48,48),interpolation=cv2.INTER_AREA)  #resize an image and use interpolation for true area\n",
        "\n",
        "\n",
        "\n",
        "        if np.sum([roi_gray])!=0:\n",
        "            #normalize the data so everything lies between 0 and 1\n",
        "            roi = roi_graycrop.astype('float')/255.0\n",
        "            roi = img_to_array(roi)\n",
        "            roi = np.expand_dims(roi,axis=0)\n",
        "\n",
        "            prediction = classifier.predict(roi)[0]\n",
        "            label=emotion_labels[prediction.argmax()]\n",
        "            label_position = (x,y)\n",
        "            cv2.putText(frame,label,label_position,cv2.FONT_HERSHEY_SIMPLEX,1,(0,255,0),2)\n",
        "        else:\n",
        "            cv2.putText(frame,'No Faces',(30,80),cv2.FONT_HERSHEY_SIMPLEX,1,(0,255,0),2)\n",
        "    cv2.imshow('Emotion Detector',frame)\n",
        "    if cv2.waitKey(1) & 0xFF == ord('q'): #f we get a key, and that key is a q, we will exit the while loop with a break, which then runs:\n",
        "        break\n",
        "\n",
        "cap.release()\n",
        "cv2.destroyAllWindows()"
      ],
      "execution_count": null,
      "outputs": []
    },
    {
      "cell_type": "code",
      "metadata": {
        "id": "Ro6D96oJU35B"
      },
      "source": [
        "#IF WE WANT TO RECORD AND SAVE THE RECORDED FILE\n",
        "import numpy as np\n",
        "import cv2\n",
        "\n",
        "cap = cv2.VideoCapture(1)\n",
        "fourcc = cv2.VideoWriter_fourcc(*'XVID')\n",
        "out = cv2.VideoWriter('output.avi',fourcc, 20.0, (640,480))\n",
        "\n",
        "while(True):\n",
        "    ret, frame = cap.read()\n",
        "    gray = cv2.cvtColor(frame, cv2.COLOR_BGR2GRAY)\n",
        "    out.write(frame)\n",
        "    cv2.imshow('frame',gray)\n",
        "    if cv2.waitKey(1) & 0xFF == ord('q'):\n",
        "        break\n",
        "\n",
        "cap.release()\n",
        "out.release()\n",
        "cv2.destroyAllWindows()"
      ],
      "execution_count": null,
      "outputs": []
    }
  ]
}